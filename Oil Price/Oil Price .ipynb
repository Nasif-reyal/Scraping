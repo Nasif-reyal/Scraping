{
 "cells": [
  {
   "cell_type": "code",
   "execution_count": 100,
   "metadata": {},
   "outputs": [],
   "source": [
    "from bs4 import BeautifulSoup\n",
    "import requests\n",
    "import pandas as pd \n",
    "import datetime as dt"
   ]
  },
  {
   "cell_type": "code",
   "execution_count": 101,
   "metadata": {},
   "outputs": [],
   "source": [
    "df=pd.DataFrame(columns=(\"Oil_price\",\"FEDFUNDS\",\"Employment_Rate\"))\n",
    "row_num=df.shape[0]"
   ]
  },
  {
   "cell_type": "code",
   "execution_count": 102,
   "metadata": {},
   "outputs": [],
   "source": [
    "url=\"https://oilprice.com/oil-price-charts/#prices\"\n",
    "results=requests.get(url)\n",
    "doc=BeautifulSoup(results.text,\"html.parser\")\n",
    "var=doc.find('tr', {'data-name': 'WTI-Crude'})\n",
    "var=var.find('td',class_=\"last_price\")\n",
    "# WTI_price=var.attrs.get('data-price')\n",
    "df.loc[row_num,\"Oil_price\"]=var.attrs.get('data-price')"
   ]
  },
  {
   "cell_type": "code",
   "execution_count": 104,
   "metadata": {},
   "outputs": [],
   "source": [
    "\n",
    "url=\"https://markets.newyorkfed.org/api/rates/all/latest.json\"\n",
    "results=requests.get(url)\n",
    "data=results.json()\n",
    "# doc=BeautifulSoup(results.text,\"html.parser\")\n",
    "effr_entry = next((entry for entry in data['refRates'] if entry['type'] == 'EFFR'), None)\n",
    "# interest_rate=effr_entry['percentRate']\n",
    "df.loc[row_num,\"FEDFUNDS\"]=effr_entry['percentRate']"
   ]
  },
  {
   "cell_type": "code",
   "execution_count": 105,
   "metadata": {},
   "outputs": [],
   "source": [
    "\n",
    "import requests\n",
    "import json\n",
    "\n",
    "headers = {'Content-type': 'application/json'}\n",
    "# data = json.dumps({\"seriesid\": ['LNS14000000'],\"startyear\":\"2024\", \"endyear\":\"2023\"})\n",
    "data = json.dumps({\"seriesid\": ['LNS14000000'],\"startyear\":dt.datetime.today().year,\"endyear\":dt.datetime.today().year})\n",
    "p = requests.post('https://api.bls.gov/publicAPI/v1/timeseries/data/', data=data, headers=headers)\n",
    "j=p.json()\n",
    "# Employmentrate=j['Results']['series'][0]['data'][0]['value']\n",
    "df.loc[row_num,\"Employment_Rate\"]=j['Results']['series'][0]['data'][0]['value']"
   ]
  },
  {
   "cell_type": "code",
   "execution_count": 106,
   "metadata": {},
   "outputs": [
    {
     "data": {
      "text/html": [
       "<div>\n",
       "<style scoped>\n",
       "    .dataframe tbody tr th:only-of-type {\n",
       "        vertical-align: middle;\n",
       "    }\n",
       "\n",
       "    .dataframe tbody tr th {\n",
       "        vertical-align: top;\n",
       "    }\n",
       "\n",
       "    .dataframe thead th {\n",
       "        text-align: right;\n",
       "    }\n",
       "</style>\n",
       "<table border=\"1\" class=\"dataframe\">\n",
       "  <thead>\n",
       "    <tr style=\"text-align: right;\">\n",
       "      <th></th>\n",
       "      <th>Oil_price</th>\n",
       "      <th>FEDFUNDS</th>\n",
       "      <th>Employment_Rate</th>\n",
       "    </tr>\n",
       "  </thead>\n",
       "  <tbody>\n",
       "    <tr>\n",
       "      <th>0</th>\n",
       "      <td>79.19</td>\n",
       "      <td>5.33</td>\n",
       "      <td>3.7</td>\n",
       "    </tr>\n",
       "  </tbody>\n",
       "</table>\n",
       "</div>"
      ],
      "text/plain": [
       "  Oil_price FEDFUNDS Employment_Rate\n",
       "0     79.19     5.33             3.7"
      ]
     },
     "execution_count": 106,
     "metadata": {},
     "output_type": "execute_result"
    }
   ],
   "source": [
    "df"
   ]
  }
 ],
 "metadata": {
  "kernelspec": {
   "display_name": "myenv",
   "language": "python",
   "name": "python3"
  },
  "language_info": {
   "codemirror_mode": {
    "name": "ipython",
    "version": 3
   },
   "file_extension": ".py",
   "mimetype": "text/x-python",
   "name": "python",
   "nbconvert_exporter": "python",
   "pygments_lexer": "ipython3",
   "version": "3.9.13"
  }
 },
 "nbformat": 4,
 "nbformat_minor": 2
}
